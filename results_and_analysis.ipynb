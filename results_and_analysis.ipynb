{
 "cells": [
  {
   "cell_type": "markdown",
   "metadata": {},
   "source": [
    "### This notebook is for generating results for the report"
   ]
  },
  {
   "cell_type": "code",
   "execution_count": null,
   "metadata": {},
   "outputs": [],
   "source": [
    "import pandas as pd\n",
    "import os\n",
    "import sys\n",
    "import numpy as np\n",
    "import matplotlib.pyplot as plt\n"
   ]
  },
  {
   "cell_type": "code",
   "execution_count": null,
   "metadata": {},
   "outputs": [],
   "source": [
    "# Get the scenario csv files into multiple dataframes\n",
    "\n",
    "rew_s1_path = \"/isaac-sim/ros-rl/run-.-tag-rollout_ep_rew_mean_scenario1.csv\"\n",
    "rew_s2_path = \"/isaac-sim/ros-rl/run-.-tag-rollout_ep_rew_mean_scenario2.csv\"\n",
    "rew_s3_path = \"/isaac-sim/ros-rl/run-.-tag-rollout_ep_rew_mean_scenario3.csv\"\n",
    "\n",
    "len_s1_path = \"/isaac-sim/ros-rl/run-.-tag-rollout_ep_len_mean_scenario1.csv\"\n",
    "len_s2_path = \"/isaac-sim/ros-rl/run-.-tag-rollout_ep_len_mean_scenario2.csv\"\n",
    "len_s3_path = \"/isaac-sim/ros-rl/run-.-tag-rollout_ep_len_mean_scenario3.csv\"\n",
    "\n",
    "rew_s1 = pd.read_csv(rew_s1_path)\n",
    "rew_s2 = pd.read_csv(rew_s2_path)\n",
    "rew_s3 = pd.read_csv(rew_s3_path)\n",
    "\n",
    "len_s1 = pd.read_csv(len_s1_path)\n",
    "len_s2 = pd.read_csv(len_s2_path)\n",
    "len_s3 = pd.read_csv(len_s3_path)\n",
    "\n"
   ]
  },
  {
   "cell_type": "code",
   "execution_count": null,
   "metadata": {},
   "outputs": [],
   "source": [
    "# Plot the episode length of all three scenarios on the same plot\n",
    "plt.plot(len_s1[\"Step\"], len_s1[\"Value\"], label=\"Scenario 1\")\n",
    "plt.plot(len_s2[\"Step\"], len_s2[\"Value\"], label=\"Scenario 2\")\n",
    "plt.plot(len_s3[\"Step\"], len_s3[\"Value\"], label=\"Scenario 3\")\n",
    "plt.xlabel(\"Step\")\n",
    "plt.ylabel(\"Episode Length\")\n",
    "plt.title(\"Episode Length of all three scenarios\")\n",
    "plt.legend()\n",
    "plt.show()"
   ]
  }
 ],
 "metadata": {
  "language_info": {
   "name": "python"
  }
 },
 "nbformat": 4,
 "nbformat_minor": 2
}
